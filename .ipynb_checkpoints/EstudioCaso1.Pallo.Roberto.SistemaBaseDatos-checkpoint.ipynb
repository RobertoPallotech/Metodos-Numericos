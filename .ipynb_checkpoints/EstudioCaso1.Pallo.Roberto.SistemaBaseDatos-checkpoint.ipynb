{
 "cells": [
  {
   "cell_type": "markdown",
   "id": "7bed88ce",
   "metadata": {},
   "source": [
    "# <center> Universidad de las Fuerzas Armadas</center>\n",
    "  # <center> Métodos Numéricos</center>\n",
    "   ## Estudio de Caso 1\n",
    "   ## --------------------------------------------------------------------------------------------------------------------------------\n",
    "   ### Apellidos: **Pallo Yautibug**\n",
    "   ### Nombres: **Roberto Carlos**\n",
    "   ### NRC:_3657_\n",
    "   ## -------------------------------------------------------------------------------------------------------------------------------"
   ]
  },
  {
   "cell_type": "markdown",
   "id": "877ab113",
   "metadata": {},
   "source": [
    "## Problema\n",
    "**1.** En el libro Numerical Mathematics and Computing de Cheney y Kincaid, observe el ejercicio 4,\n",
    "literal a de la página 288 (el libro se encuentra en el enlace proporcionado en la sección Sitios)."
   ]
  },
  {
   "cell_type": "markdown",
   "id": "7cb80097",
   "metadata": {},
   "source": [
    "**2.** Utilice el siguiente código para resolver el ejercicio (utilizando un sistema de cien ecuaciones y cien\n",
    "incógnitas). El código es del mismo libro."
   ]
  },
  {
   "cell_type": "markdown",
   "id": "715dfff7",
   "metadata": {},
   "source": [
    "<img src='estcaso1.png'>"
   ]
  },
  {
   "cell_type": "code",
   "execution_count": 243,
   "id": "df2a5c86",
   "metadata": {},
   "outputs": [],
   "source": [
    "import numpy as np\n",
    "def tridiag(n,d,a,c,b):\n",
    "    x = np.zeros(n)\n",
    "    for i in range(1,n-1):\n",
    "        mult = a[i-1]/d[i-1]\n",
    "        d[i]-= mult*c[i-1]\n",
    "        b[i] -= mult * b[i-1]\n",
    "        print(d)\n",
    "        x[n-1]=b[n-1]/d[n-1]\n",
    "        for i in range (n-2,-1,-1):\n",
    "            x[i]=(b[i]-c[i]*x[i+1]/d[i])\n",
    "        return x\n"
   ]
  },
  {
   "cell_type": "code",
   "execution_count": 244,
   "id": "d328d139",
   "metadata": {},
   "outputs": [],
   "source": [
    "n=100\n",
    "a=0.5*np.ones([100])\n",
    "c=0.5*np.ones([100])\n",
    "b=2*np.ones([100])\n",
    "d=np.ones([100])\n",
    "b[0]=b[49]=1.5\n",
    "b[50]=b[99]=2."
   ]
  },
  {
   "cell_type": "code",
   "execution_count": 245,
   "id": "3d2d3c68",
   "metadata": {},
   "outputs": [
    {
     "name": "stdout",
     "output_type": "stream",
     "text": [
      "Matriz resultante de la operación  100 ecuaciones por 100 incognitas: \n",
      "[1.   0.75 1.   1.   1.   1.   1.   1.   1.   1.   1.   1.   1.   1.\n",
      " 1.   1.   1.   1.   1.   1.   1.   1.   1.   1.   1.   1.   1.   1.\n",
      " 1.   1.   1.   1.   1.   1.   1.   1.   1.   1.   1.   1.   1.   1.\n",
      " 1.   1.   1.   1.   1.   1.   1.   1.   1.   1.   1.   1.   1.   1.\n",
      " 1.   1.   1.   1.   1.   1.   1.   1.   1.   1.   1.   1.   1.   1.\n",
      " 1.   1.   1.   1.   1.   1.   1.   1.   1.   1.   1.   1.   1.   1.\n",
      " 1.   1.   1.   1.   1.   1.   1.   1.   1.   1.   1.   1.   1.   1.\n",
      " 1.   1.  ]\n",
      "[1.31944444 0.36111111 1.33333333 1.33333333 1.33333333 1.33333333\n",
      " 1.33333333 1.33333333 1.33333333 1.33333333 1.33333333 1.33333333\n",
      " 1.33333333 1.33333333 1.33333333 1.33333333 1.33333333 1.33333333\n",
      " 1.33333333 1.33333333 1.33333333 1.33333333 1.33333334 1.33333333\n",
      " 1.33333335 1.3333333  1.33333339 1.33333321 1.33333357 1.33333286\n",
      " 1.33333429 1.33333143 1.33333715 1.3333257  1.33334859 1.33330282\n",
      " 1.33339437 1.33321126 1.33357747 1.33284505 1.3343099  1.33138021\n",
      " 1.33723958 1.32552083 1.34895833 1.30208333 1.39583333 1.20833333\n",
      " 1.58333333 0.83333333 1.33333333 1.33333333 1.33333333 1.33333333\n",
      " 1.33333333 1.33333333 1.33333333 1.33333333 1.33333333 1.33333333\n",
      " 1.33333333 1.33333333 1.33333333 1.33333333 1.33333333 1.33333333\n",
      " 1.33333333 1.33333333 1.33333333 1.33333333 1.33333333 1.33333334\n",
      " 1.33333333 1.33333334 1.33333331 1.33333337 1.33333325 1.33333349\n",
      " 1.33333302 1.33333397 1.33333206 1.33333588 1.33332825 1.33334351\n",
      " 1.33331299 1.33337402 1.33325195 1.33349609 1.33300781 1.33398438\n",
      " 1.33203125 1.3359375  1.328125   1.34375    1.3125     1.375\n",
      " 1.25       1.5        1.         2.        ]\n"
     ]
    }
   ],
   "source": [
    "print('Matriz resultante de la operación  100 ecuaciones por 100 incognitas: ')\n",
    "print (tridiag(n,d,a,c,b))"
   ]
  },
  {
   "cell_type": "markdown",
   "id": "0c6350cf",
   "metadata": {},
   "source": [
    "**3.** Resuelva el sistema de ecuaciones de manera manual y compare los resultados. Concluya lo que\n",
    "sucede en este caso. Puede observar la solución al ejercicio en el libro."
   ]
  }
 ],
 "metadata": {
  "kernelspec": {
   "display_name": "Python 3",
   "language": "python",
   "name": "python3"
  },
  "language_info": {
   "codemirror_mode": {
    "name": "ipython",
    "version": 3
   },
   "file_extension": ".py",
   "mimetype": "text/x-python",
   "name": "python",
   "nbconvert_exporter": "python",
   "pygments_lexer": "ipython3",
   "version": "3.8.8"
  }
 },
 "nbformat": 4,
 "nbformat_minor": 5
}
