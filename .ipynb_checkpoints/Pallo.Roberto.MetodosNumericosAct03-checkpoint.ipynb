{
 "cells": [
  {
   "cell_type": "markdown",
   "id": "dff1507c",
   "metadata": {},
   "source": [
    "# <center> Universidad de las Fuerzas Armadas</center>\n",
    "  # <center> Métodos Numéricos</center>\n",
    "   ## Actividad n.-3\n",
    "   ## --------------------------------------------------------------------------------------------------------------------------------\n",
    "   ### Apellidos: **Pallo Yautibug**\n",
    "   ### Nombres: **Roberto Carlos**\n",
    "   ### NRC:_3657_\n",
    "   ## -------------------------------------------------------------------------------------------------------------------------------"
   ]
  },
  {
   "cell_type": "markdown",
   "id": "da448ccc",
   "metadata": {},
   "source": [
    "Ejercicios\n",
    "1. Para el sistema lineal <br />\n",
    "\n",
    "$$\\left\\lbrace\\begin{array}{c} 6x_1= 12 \\\\ 6x_2 + 3x_1= -12\\\\7x_3 - 2x_2 + 4x_1= 14 \\\\21x_4 + 9x_3 - 3x_2 + 5x_1= -2\\end{array}\\right.$$<br/>\n",
    "\n",
    "Encuentre los valores de $x_1, x_2, x_3, x_4$ utilizando sustitución progresiva. Encuentre la descomposición\n",
    "LU del sistema anterior. ¿Qué puede concluir?<br/>\n",
    "\n",
    "Primero transformamos el sistema lineal en una matriz aumentada:<br/>\n",
    "$$\\left(\\begin{array}{c} \n",
    "0\\;\\;\\;\\;\\;0\\;\\;\\;\\;\\;0\\;\\;\\;\\;\\;6\\;\\;\\;\\;|\\;\\;\\;\\;12 \\\\ \n",
    "0\\;\\;\\;\\;\\;0\\;\\;\\;\\;\\;6\\;\\;\\;\\;\\;3\\;\\;\\;\\;|\\;-12\\\\\n",
    "0\\;\\;\\;\\;\\;7\\;\\;-2\\;\\;\\;\\;\\;4\\;\\;\\;\\;|\\;\\;\\;\\;14\\\\\n",
    "21\\;\\;\\;\\;9\\;-3\\;\\;\\;\\;\\;5\\;\\;\\;\\;|\\;-2\n",
    "\\end{array}\\right).$$<br/>\n"
   ]
  },
  {
   "cell_type": "markdown",
   "id": "08b80d2b",
   "metadata": {},
   "source": [
    "Intercambiamos columna $1$ por columna $4$<br/>\n",
    "Intercambiamos columna $2$ por columna $3$<br/>\n",
    "$$\\left(\\begin{array}{c} \n",
    "6\\;\\;\\;\\;\\;0\\;\\;\\;\\;\\;0\\;\\;\\;\\;\\;0\\;\\;\\;\\;|\\;12\\\\\n",
    "3\\;\\;\\;\\;\\;6\\;\\;\\;\\;\\;0\\;\\;\\;\\;\\;0\\;\\;\\;\\;|\\;-12\\\\\n",
    "4\\;-2\\;\\;\\;7\\;\\;\\;\\;0\\;\\;\\;\\;|\\;14\\\\\n",
    "5\\;-3\\;\\;\\;\\;\\;9\\;\\;\\;\\;21\\;\\;\\;\\;|\\;\\;\\;\\;-2 \\\\\n",
    "\\end{array}\\right).$$<br/>"
   ]
  },
  {
   "cell_type": "markdown",
   "id": "26fb1068",
   "metadata": {},
   "source": [
    "Encuentre los valores de $x_1, x_2, x_3, x_4$ utilizando sustitución progresiva.<br/>"
   ]
  },
  {
   "cell_type": "code",
   "execution_count": 124,
   "id": "c2a5ceda",
   "metadata": {},
   "outputs": [],
   "source": [
    "import numpy as np\n",
    "\n",
    "# Evitar truncamiento en operaciones\n",
    "A = np.array(A,dtype=float) \n",
    "\n",
    "# Matriz aumentada\n",
    "AB  = np.concatenate((A,B),axis=1)\n",
    "# Copia de la Matriz AB\n",
    "AB0 = np.copy(AB)\n",
    "\n",
    "# Pivoteo parcial por filas\n",
    "tamano = np.shape(AB)\n",
    "n = tamano[0]\n",
    "m = tamano[1]\n",
    "\n",
    "    \n",
    "# eliminación hacia adelante\n",
    "for i in range(0,n-1,1):\n",
    "    pivote   = AB[i,i]\n",
    "    adelante = i + 1\n",
    "    for k in range(adelante,n,1):\n",
    "        factor  = AB[k,i]/pivote\n",
    "        AB[k,:] = AB[k,:] - AB[i,:]*factor\n",
    "\n",
    "# sustitución hacia atrás\n",
    "ultfila = n-1\n",
    "ultcolumna = m-1\n",
    "X = np.zeros(n,dtype=float)\n",
    "\n",
    "for i in range(ultfila,0-1,-1):\n",
    "    suma = 0\n",
    "    for j in range(i+1,ultcolumna,1):\n",
    "        suma = suma + AB[i,j]*X[j]\n",
    "    b = AB[i,ultcolumna]\n",
    "    X[i] = (b-suma)/AB[i,i]\n",
    "\n",
    "X = np.transpose([X])\n"
   ]
  },
  {
   "cell_type": "code",
   "execution_count": 125,
   "id": "e7eebcf4",
   "metadata": {},
   "outputs": [],
   "source": [
    "# Datos\n",
    "A = np.array([[6, 0, 0, 0],\n",
    "              [3, 6, 0, 0],\n",
    "              [4, -2, 7, 0],\n",
    "              [5, -3, 9, 21]])\n",
    "\n",
    "B = np.array([[12],\n",
    "              [-12],\n",
    "              [14],\n",
    "              [-2]])"
   ]
  },
  {
   "cell_type": "code",
   "execution_count": 126,
   "id": "7715872e",
   "metadata": {},
   "outputs": [
    {
     "name": "stdout",
     "output_type": "stream",
     "text": [
      "Matriz aumentada:\n",
      "[[  6.   0.   0.   0.  12.]\n",
      " [  3.   6.   0.   0. -12.]\n",
      " [  4.  -2.   7.   0.  14.]\n",
      " [  5.  -3.   9.  21.  -2.]]\n",
      "Sustitución Pogresiva\n",
      "[[  6.   0.   0.   0.  12.]\n",
      " [  0.   6.   0.   0. -18.]\n",
      " [  0.   0.   7.   0.   0.]\n",
      " [  0.   0.   0.  21. -21.]]\n",
      "solución: \n",
      "[[ 2.]\n",
      " [-3.]\n",
      " [ 0.]\n",
      " [-1.]]\n"
     ]
    }
   ],
   "source": [
    "# Salida de Datos\n",
    "print('Matriz aumentada:')\n",
    "print(AB0)\n",
    "print('Sustitución Pogresiva')\n",
    "print(AB)\n",
    "print('solución: ')\n",
    "print(X)"
   ]
  },
  {
   "cell_type": "markdown",
   "id": "068afac4",
   "metadata": {},
   "source": [
    "Encuentre la descomposición\n",
    "LU"
   ]
  },
  {
   "cell_type": "code",
   "execution_count": 127,
   "id": "26d131e7",
   "metadata": {},
   "outputs": [],
   "source": [
    "# Pivoteo parcial por filas\n",
    "tamano = np.shape(AB)\n",
    "n = tamano[0]\n",
    "m = tamano[1]\n",
    "\n",
    "# eliminacion hacia adelante\n",
    "# se inicializa L\n",
    "L = np.identity(n,dtype=float)\n",
    "for i in range(0,n-1,1):\n",
    "    pivote = AB[i,i]\n",
    "    adelante = i+1\n",
    "    for k in range(adelante,n,1):\n",
    "        factor = AB[k,i]/pivote\n",
    "        AB[k,:] = AB[k,:] - AB[i,:]*factor\n",
    "        L[k,i] = factor\n",
    "\n",
    "U = np.copy(AB)\n"
   ]
  },
  {
   "cell_type": "code",
   "execution_count": 134,
   "id": "d0648acb",
   "metadata": {
    "scrolled": false
   },
   "outputs": [
    {
     "name": "stdout",
     "output_type": "stream",
     "text": [
      "Matriz aumentada:\n",
      "[[  6.   0.   0.   0.  12.]\n",
      " [  3.   6.   0.   0. -12.]\n",
      " [  4.  -2.   7.   0.  14.]\n",
      " [  5.  -3.   9.  21.  -2.]]\n",
      "Matriz U: \n",
      "[[  6.   0.   0.   0.  12.]\n",
      " [  0.   6.   0.   0. -18.]\n",
      " [  0.   0.   7.   0.   0.]\n",
      " [  0.   0.   0.  21. -21.]]\n",
      "matriz L: \n",
      "[[1. 0. 0. 0.]\n",
      " [0. 1. 0. 0.]\n",
      " [0. 0. 1. 0.]\n",
      " [0. 0. 0. 1.]]\n"
     ]
    }
   ],
   "source": [
    "# Salida de Datos\n",
    "print('Matriz aumentada:')\n",
    "print(AB0)\n",
    "print('Matriz U: ')\n",
    "print(U)\n",
    "print('matriz L: ')\n",
    "print(np.around(L, decimals=4))\n",
    "\n",
    "\n",
    "\n",
    "\n"
   ]
  },
  {
   "cell_type": "markdown",
   "id": "1121df4b",
   "metadata": {},
   "source": [
    "Conclusiones:\n",
    "Se puede notar que el método de sustitución progresiva y la matriz U son las mismas matrices,de esta manera nos realiza mas facil encontrar las incognitas buscadas.Basta con aplicar una sustitución progresiva en la Matriz U para llegar al valor de las incognitas."
   ]
  },
  {
   "cell_type": "markdown",
   "id": "a7fecc30",
   "metadata": {},
   "source": [
    "$2.$ Resuelva las siguientes matrices usando la descomposición de Cholesky"
   ]
  },
  {
   "cell_type": "markdown",
   "id": "3b55f812",
   "metadata": {},
   "source": [
    "\n",
    "La descomposición de Cholesky de una matriz hermitiana positiva, donde A es una descomposición de la forma $A = [L] [L]^T$, donde $L$ es una matriz triangular inferior con diagonales reales y positivas, y $L^T$ denota la transpuesta conjugada de L. Cada matriz hermitiana positiva definida ( por lo tanto toda matriz simétrica positiva define un valor real) tiene una descomposición de Cholesky única.<br/> \n"
   ]
  },
  {
   "cell_type": "markdown",
   "id": "f392b50a",
   "metadata": {},
   "source": [
    "Sean las matrices<br/>\n",
    "$$A=\\left(\\begin{array}{c} \n",
    "4\\;\\;\\;\\;\\;6\\;\\;\\;\\;\\;10\\\\ \n",
    "6\\;\\;\\;\\;\\;25\\;\\;\\;\\;\\;19\\\\\n",
    "10\\;\\;\\;\\;\\;19\\;\\;\\;\\;\\;62\n",
    "\\end{array}\\right).$$<br/>\n",
    "\n",
    "$$B=\\left(\\begin{array}{c} \n",
    "4\\;\\;\\;\\;\\;6\\;\\;\\;\\;\\;10\\\\ \n",
    "6\\;\\;\\;\\;\\;3\\;\\;\\;\\;\\;19\\\\\n",
    "10\\;\\;\\;\\;\\;19\\;\\;\\;\\;\\;62\n",
    "\\end{array}\\right).$$<br/>\n",
    "\n",
    "Entonces descomponemos la matriz por el método de Cholesky"
   ]
  },
  {
   "cell_type": "code",
   "execution_count": 129,
   "id": "5191062a",
   "metadata": {},
   "outputs": [],
   "source": [
    "import numpy as np\n",
    "import math\n",
    "MAX = 10;\n",
    "  \n",
    "def Cholesky(matrix, n):\n",
    "  \n",
    "    matriz_inf = [[0 for x in range(n + 1)] \n",
    "    \n",
    "    for y in range(n + 1)];\n",
    "    # Descomposicion de la matriz en la matriz triangular inferior\n",
    "    for i in range(n): \n",
    "        for j in range(i + 1): \n",
    "            sum1 = 0;\n",
    "  \n",
    "            # Hallar los valores de la diagonal\n",
    "            if (j == i): \n",
    "                for k in range(j):\n",
    "                    sum1 += pow(matriz_inf[j][k], 2);\n",
    "                matriz_inf[j][j] = int(math.sqrt(matrix[j][j] - sum1));\n",
    "            else:\n",
    "                  \n",
    "                # Hallando valores de matriz triangular inferior L(i, j)\n",
    "                for k in range(j):\n",
    "                    sum1 += (matriz_inf[i][k] * matriz_inf[j][k]);\n",
    "                if(matriz_inf[j][j] > 0):\n",
    "                    matriz_inf[i][j] = int((matrix[i][j] - sum1) / \n",
    "                                               matriz_inf[j][j]);\n",
    "  \n",
    "   \n",
    "    # Visualizacion Matriz triangular inferior/ Transpuesta\n",
    "    print(\"Matriz Triangular Inferior\\t\\tMatriz Transpuesta\");\n",
    "    for i in range(n): \n",
    "          \n",
    "        # matriz Triangular inferior\n",
    "        for j in range(n):\n",
    "            print(matriz_inf[i][j], end = \"\\t\");\n",
    "        print(\"\", end = \"\\t\");\n",
    "          \n",
    "        \n",
    "        # Transpuesta matriz Triangular inferior\n",
    "        for j in range(n):\n",
    "            print(matriz_inf[j][i], end = \"\\t\");\n",
    "        print(\"\");\n",
    "        \n",
    "   \n",
    "        \n"
   ]
  },
  {
   "cell_type": "code",
   "execution_count": 130,
   "id": "d61ee5f7",
   "metadata": {
    "scrolled": true
   },
   "outputs": [
    {
     "name": "stdout",
     "output_type": "stream",
     "text": [
      " matriz A positiva: 2303.999999999999\n",
      "Matriz Triangular Inferior\t\tMatriz Transpuesta\n",
      "2\t0\t0\t\t2\t3\t5\t\n",
      "3\t4\t0\t\t0\t4\t1\t\n",
      "5\t1\t6\t\t0\t0\t6\t\n",
      " matriz B negativa: -804.0000000000001\n"
     ]
    }
   ],
   "source": [
    "#Datos:      \n",
    "n = 3;\n",
    "# inicialización de matrices\n",
    "matrix = [[4, 6, 10],\n",
    "         [6, 25, 19],\n",
    "          [10, 19, 62]];\n",
    "matrix1 = [[4, 6, 10],\n",
    "          [6, 4, 19],\n",
    "          [10, 19, 62]];\n",
    "r=np.linalg.det(matrix);\n",
    "m=np.linalg.det(matrix1);\n",
    "print(\" matriz A positiva:\",r)\n",
    "Cholesky(matrix, n)\n",
    "print(\" matriz B negativa:\",m)\n",
    "\n",
    "\n",
    "\n",
    "\n",
    "\n",
    "\n"
   ]
  },
  {
   "cell_type": "markdown",
   "id": "7a9d3806",
   "metadata": {},
   "source": [
    "Conclusiones:\n",
    "    Como se puede observar que la matriz B es negativa por lo tanto no puede ser resuelta con el metodo de Cholesky, a diferencia de la matriz A la cual si se pudo obtener la matriz triangular inferior y la transpuesta de la misma."
   ]
  },
  {
   "cell_type": "markdown",
   "id": "60b98d6d",
   "metadata": {},
   "source": [
    "$ 3.-$Utilice el método de Jacobi, Gauss-Seidel y SOR $(w = 1.1)$ para resolver el siguiente sistema lineal\n",
    "con una precisión de cuatro cifras decimales."
   ]
  },
  {
   "cell_type": "markdown",
   "id": "ed4f62f8",
   "metadata": {},
   "source": [
    "\n",
    "$$\\left(\\begin{array}{c} \n",
    "7\\;\\;\\;\\;\\;1\\;\\;\\;\\;\\;-1\\;\\;\\;\\;\\;2 \\\\ \n",
    "1\\;\\;\\;\\;\\;8\\;\\;\\;\\;\\;\\;\\;0\\;\\;\\;\\;\\;-2 \\\\\n",
    "-1\\;\\;\\;\\;0\\;\\;\\;\\;\\;\\;\\;4\\;\\;\\;\\;\\;-1 \\\\\n",
    "2\\;\\;-2\\;\\;\\;\\;\\;-1\\;\\;\\;\\;\\;6\n",
    "\\end{array}\\right).$$\n",
    "\n",
    "$$\\left(\\begin{array}{c} \n",
    "x_1\\; \\\\ \n",
    "x_2\\; \\\\\n",
    "x_3\\; \\\\\n",
    "x_4\\;\n",
    "\\end{array}\\right).$$\n",
    "\n",
    "$$=\\left(\\begin{array}{c} \n",
    "3\\; \\\\ \n",
    "-5\\; \\\\\n",
    "4\\; \\\\\n",
    "-3\\;\n",
    "\\end{array}\\right).$$\n",
    "\n",
    "\n"
   ]
  },
  {
   "cell_type": "markdown",
   "id": "be52b6fb",
   "metadata": {},
   "source": [
    "### Metodo de Resolución de Jacobi "
   ]
  },
  {
   "cell_type": "code",
   "execution_count": 131,
   "id": "7a51bb6b",
   "metadata": {},
   "outputs": [
    {
     "name": "stdout",
     "output_type": "stream",
     "text": [
      "Iteracion 1 en x [ 0.42857143 -0.625       1.         -0.5       ]\n",
      "Iteracion 2 en x [ 0.80357143 -0.80357143  0.98214286 -0.68452381]\n",
      "Iteracion 3 en x [ 0.8792517  -0.89657738  1.0297619  -0.87202381]\n",
      "Iteracion 4 en x [ 0.95291241 -0.95291241  1.00180697 -0.92031604]\n",
      "Iteracion 5 en x [ 0.9707645  -0.97419306  1.00814909 -0.96830711]\n",
      "Iteracion 6 en x [ 0.98842234 -0.98842234  1.00061435 -0.98029434]\n",
      "Iteracion 7 en x [ 0.99280362 -0.99362638  1.002032   -0.99217917]\n",
      "Iteracion 8 en x [ 0.99714525 -0.99714525  1.00015611 -0.995138  ]\n",
      "Iteracion 9 en x [ 0.99822534 -0.99842766  1.00050181 -0.99807081]\n",
      "Iteracion 10 en x [ 0.99929587 -0.99929587  1.00003863 -0.9988007 ]\n",
      "Iteracion 11 en x [ 0.99956227 -0.99961216  1.00012379 -0.99952414]\n",
      "Iteracion 12 en x [ 0.99982632 -0.99982632  1.00000953 -0.99970418]\n",
      "Iteracion 13 en x [ 0.99989203 -0.99990433  1.00003054 -0.99988262]\n",
      "Iteracion 14 en x [ 0.99995716 -0.99995716  1.00000235 -0.99992703]\n",
      "Total de Iteraciones: 14\n",
      "Valor aproximado buscado: [ 1.     -1.      1.     -0.9999]\n",
      "Error: [-1.13457067e-04  1.53946056e-04 -2.07224540e-05  2.64095878e-04]\n"
     ]
    }
   ],
   "source": [
    "import numpy as np\n",
    "# inicialización de matriz y vector\n",
    "A = np.array([[7., 1., -1., 2.], \n",
    "              [1., 8., 0., -2.], \n",
    "              [-1., 0., 4., -1.], \n",
    "              [2., -2., -1., 6.]])\n",
    "b = np.array([3.0, -5.0, 4.0, -3.0])\n",
    "x0 = np.array([0.0, 0.0, 0.0, 0.0])\n",
    "x = np.array([0.0, 0.0, 0.0, 0.0])\n",
    "n= 4\n",
    "iteracion = 0\n",
    "eps = 1e-4\n",
    "\n",
    "while True:\n",
    "    for i in range(n):\n",
    "        temp = 0\n",
    "        for j in range(n):\n",
    "            if i != j:\n",
    "                temp += x0[j] * A[i][j]\n",
    "        x[i] = (b[i] - temp) / A[i][i]\n",
    "    calTemp = max(abs(x - x0))\n",
    "    iteracion += 1\n",
    "    print(\"Iteracion\", iteracion, \"en x\", x)\n",
    "    #Criterio de Parada\n",
    "    if calTemp < eps:\n",
    "        break\n",
    "    else:\n",
    "        x0 = x.copy()\n",
    "\n",
    "print(\"Total de Iteraciones:\", iteracion)\n",
    "print(\"Valor aproximado buscado:\",np.around(x, decimals=4))\n",
    "error1 = np.dot(A, x) - b\n",
    "print(\"Error: {0}\".format(error1))"
   ]
  },
  {
   "cell_type": "markdown",
   "id": "86f5f028",
   "metadata": {},
   "source": [
    "### Metodo de Resolución de Gauss-Seidel"
   ]
  },
  {
   "cell_type": "code",
   "execution_count": 132,
   "id": "5856d4e1",
   "metadata": {
    "scrolled": true
   },
   "outputs": [
    {
     "name": "stdout",
     "output_type": "stream",
     "text": [
      "Iteracion 0 en x [0. 0. 0. 0.]\n",
      "Iteracion 1 en x [ 0.42857143 -0.67857143  1.10714286 -0.68452381]\n",
      "Iteracion 2 en x [ 0.8792517  -0.90603741  1.04868197 -0.92031604]\n",
      "Iteracion 3 en x [ 0.9707645  -0.97642457  1.01261211 -0.98029434]\n",
      "Iteracion 4 en x [ 0.99280362 -0.99417404  1.00312732 -0.995138  ]\n",
      "Iteracion 5 en x [ 0.99822534 -0.99856267  1.00077183 -0.9988007 ]\n",
      "Iteracion 6 en x [ 0.99956227 -0.99964546  1.00019039 -0.99970418]\n",
      "Iteracion 7 en x [ 0.99989203 -0.99991255  1.00004696 -0.99992703]\n",
      "Valor aproximado buscado: [ 0.9999 -0.9999  1.     -0.9999]\n",
      "Error: [-5.69369317e-04  4.45709694e-04  2.22854847e-04 -4.44089210e-16]\n"
     ]
    }
   ],
   "source": [
    " import numpy as np\n",
    "iteracion= 50\n",
    "eps = 1e-4\n",
    "# inicialización de matriz y vector\n",
    "A = np.array([[7., 1., -1., 2.], \n",
    "              [1., 8., 0., -2.], \n",
    "              [-1., 0., 4., -1.], \n",
    "              [2., -2., -1., 6.]])\n",
    "b = np.array([3.0, -5.0, 4.0, -3.0])\n",
    "x = np.zeros_like(b)\n",
    "for i in range(iteracion):\n",
    "    x0 = np.zeros_like(x)\n",
    "    print(\"Iteracion\", i, \"en x\", x)\n",
    "    for i in range(A.shape[0]):\n",
    "        s1 = np.dot(A[i, :i], x0[:i])\n",
    "        s2 = np.dot(A[i, i + 1 :], x[i + 1 :])\n",
    "        x0[i] = (b[i] - s1 - s2) / A[i, i]\n",
    "    if np.allclose(x, x0, rtol=eps):\n",
    "        break\n",
    "    x = x0\n",
    "\n",
    "print(\"Valor aproximado buscado:\", np.around(x, decimals=4))\n",
    "error = np.dot(A, x) - b\n",
    "print(\"Error: {0}\".format(error))"
   ]
  },
  {
   "cell_type": "markdown",
   "id": "d0b980d7",
   "metadata": {},
   "source": [
    "### Metodo de Resolución de SOR"
   ]
  },
  {
   "cell_type": "code",
   "execution_count": 133,
   "id": "6a94baef",
   "metadata": {},
   "outputs": [],
   "source": [
    "import numpy as np\n",
    "def FUNCION_SOR(A,b,w,k):\n",
    "    n = A.shape[1]#Encuentra el numero de filas y colunmas\n",
    "    D = np.eye(n)\n",
    "    D[np.arange(n),np.arange(n)] = A[np.arange(n),np.arange(n)]\n",
    "    LU = D - A\n",
    "    L = np.tril(LU)\n",
    "    U = np.triu(LU)\n",
    "    D_wL = D - w*L\n",
    "    x = np.zeros(n)\n",
    "    print(\"Iteracion \",0 ,x)\n",
    "    for i in range(k):\n",
    "        D_wL_inv = np.linalg.inv(D_wL)\n",
    "        x =  np.dot(np.dot(D_wL_inv,w * U + (1-w) * D),x) + w * np.dot(D_wL_inv,b)\n",
    "        print(\"Iteracion en x \",i+1 ,x)\n",
    "    return x"
   ]
  },
  {
   "cell_type": "code",
   "execution_count": 136,
   "id": "d3e01c72",
   "metadata": {},
   "outputs": [
    {
     "name": "stdout",
     "output_type": "stream",
     "text": [
      "Iteracion  0 [0. 0. 0. 0.]\n",
      "Iteracion en x  1 [ 0.47142857 -0.75232143  1.22964286 -0.77327381]\n",
      "Iteracion en x  2 [ 0.97876616 -0.9594985   1.03354611 -0.99388621]\n",
      "Iteracion en x  3 [ 0.99910892 -1.00224633  0.99808163 -1.00146   ]\n",
      "Iteracion en x  4 [ 1.0005995  -1.0002593   0.9999552  -1.00017711]\n",
      "Iteracion en x  5 [ 1.00002942 -1.00002682  0.99996387 -1.00000953]\n",
      "Iteracion en x  6 [ 0.99999859 -0.99999975  1.0000006  -0.99999833]\n",
      "Iteracion en x  7 [ 0.99999967 -0.99999952  1.00000031 -0.99999981]\n",
      "Iteracion en x  8 [ 0.99999995 -0.99999999  1.00000001 -0.99999999]\n",
      "Iteracion en x  9 [ 1. -1.  1. -1.]\n",
      "Valor aproximado buscado: [ 1. -1.  1. -1.]\n"
     ]
    }
   ],
   "source": [
    "# inicialización de matriz y vector\n",
    "A = np.array([[7., 1., -1., 2.], \n",
    "              [1., 8., 0., -2.], \n",
    "              [-1., 0., 4., -1.], \n",
    "              [2., -2., -1., 6.]])\n",
    "b = np.array([3.0, -5.0, 4.0, -3.0])\n",
    "w = 1.1\n",
    "k=9\n",
    "print(\"Valor aproximado buscado:\", FUNCION_SOR(A,b,w,k))"
   ]
  },
  {
   "cell_type": "markdown",
   "id": "fee5a388",
   "metadata": {},
   "source": [
    "Conclusiones:Como podemos visualizar el Método de resolución de Jacobi, tiene  menor error a la hora de hallar un valor aproximado; pero tiene mayor número de iteraciones(14), con una tolerancia de 0,0001.<br/>\n",
    "Mientras que el Método de Gauss Seidel tiene mayor error al momento de buscar un valor aproximado; pero tiene un menor numero de iteraciones(7), con una tolerancia de 0,0001.<br/>\n",
    "Por último el Método de SOR con un número de iteraciones(9); obtuvo la respuesta correcta$ x = (1, -1, 1 -1)$; por lo tanto el mejor método es el de SOR."
   ]
  },
  {
   "cell_type": "markdown",
   "id": "6ffd8455",
   "metadata": {},
   "source": [
    "$4.$ Programe un algoritmo para encontrar la norma de Frobenius para una matriz cuadrada de cualquier\n",
    "dimensión."
   ]
  },
  {
   "cell_type": "code",
   "execution_count": 116,
   "id": "203b5a20",
   "metadata": {},
   "outputs": [],
   "source": [
    "from math import sqrt\n",
    "#Como es una matriz cuadrada el numero de columnas es el mismo qu eel de columnas\n",
    "n = len(mat) \n",
    "\n",
    "# Función Frobenius para obtener la norma\n",
    "def frobeniusNorm(mat):\n",
    " \n",
    "    suma = 0\n",
    "    for i in range(n):\n",
    "        for j in range(n):\n",
    "            # se suma cada uno de los elementos de una matriz elevados al cuadrado\n",
    "            suma += pow(mat[i][j], 2)\n",
    " \n",
    "   \n",
    "    # El resultado de la suma se le extrae la raiz\n",
    "    respuesta = sqrt(suma)\n",
    "    return round(respuesta, 5)"
   ]
  },
  {
   "cell_type": "code",
   "execution_count": 117,
   "id": "1fb96b30",
   "metadata": {},
   "outputs": [
    {
     "name": "stdout",
     "output_type": "stream",
     "text": [
      "10.72381\n"
     ]
    }
   ],
   "source": [
    "# Ingresar la matriz\n",
    " \n",
    "mat = [[7., 1., -1., 2.], \n",
    "      [1., 8., 0., -2.], \n",
    "      [-1., 0., 4., -1.], \n",
    "      [2., -2., -1., 6.]]\n",
    " \n",
    "print(frobeniusNorm(mat))\n",
    " "
   ]
  }
 ],
 "metadata": {
  "kernelspec": {
   "display_name": "Python 3",
   "language": "python",
   "name": "python3"
  },
  "language_info": {
   "codemirror_mode": {
    "name": "ipython",
    "version": 3
   },
   "file_extension": ".py",
   "mimetype": "text/x-python",
   "name": "python",
   "nbconvert_exporter": "python",
   "pygments_lexer": "ipython3",
   "version": "3.8.8"
  }
 },
 "nbformat": 4,
 "nbformat_minor": 5
}
