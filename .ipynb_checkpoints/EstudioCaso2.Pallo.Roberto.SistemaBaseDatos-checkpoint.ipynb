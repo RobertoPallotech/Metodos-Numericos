{
 "cells": [
  {
   "cell_type": "markdown",
   "id": "e9917979",
   "metadata": {},
   "source": [
    "# <center> Universidad de las Fuerzas Armadas</center>\n",
    "  # <center> Métodos Numéricos</center>\n",
    "   ## Estudio de Caso 2\n",
    "   ## Segundo Parcial\n",
    "   ## --------------------------------------------------------------------------------------------------------------------------------\n",
    "   ### Apellidos: **Pallo Yautibug**\n",
    "   ### Nombres: **Roberto Carlos**\n",
    "   ### NRC:_3657_\n",
    "   ## -------------------------------------------------------------------------------------------------------------------------------"
   ]
  },
  {
   "cell_type": "markdown",
   "id": "1b68df7e",
   "metadata": {},
   "source": [
    "## Problema\n",
    "Plantee un problema de programación lineal que sea útil en su vida diaria. Realice los siguientes puntos.<br/>\n",
    "a) Planteamiento escrito del problema."
   ]
  },
  {
   "cell_type": "markdown",
   "id": "027140d6",
   "metadata": {},
   "source": [
    "Marte industrias es la fábrica donde trabajo; pionera en elaborar $esponjas$ $limpiadoras$ para cocina y $lanas$ $de$ $acero$ para pisos . El volumen de ventas de las $esponjas$ $limpiadoras$ es por lo menos del $80$ $por$ $ciento$ de las ventas totales de $esponjas$ $limpiadoras$ y las $lanas$ $de$ $acero$. Sin embargo, la compañía no puede vender más de $100$ $unidades$ de $esponjas$ $limpiadoras$ y $50$ $lanas$ $de$ $acero$ por dia respectivamente. Ambos productos utilizan una materia prima, cuya disponibilidad diaria máxima es de $500$ $libras$. Las tasas de consumo de la materia prima son de $0,25$ lb por unidad de $esponjas$ $limpiadoras$ y de $0,5$ lb por unidad de $lanas$ $de$ $acero$. Las utilidades de $esponjas$ $limpiadoras$ y las $lanas$ $de$ $acero$ son de $10$ $y$ $20$ $dolares$, respectivamente. ¿Cual sera la combinación óptima de productos para la compañía tenga mas ganancias?"
   ]
  },
  {
   "cell_type": "markdown",
   "id": "df5dac28",
   "metadata": {},
   "source": [
    "b) Descripción de las variables y la función objetivo.<br/>\n",
    "Primero hallaremos las variables que en este caso son las palabras que mas se repiten y estan resaltadas de color negro<br/>\n"
   ]
  },
  {
   "cell_type": "markdown",
   "id": "074df433",
   "metadata": {},
   "source": [
    " $esponjas$ $limpiadoras$ = X <br/>\n",
    " $lanas$ $de$ $acero$ = Y <br/>   "
   ]
  },
  {
   "cell_type": "markdown",
   "id": "d994068d",
   "metadata": {},
   "source": [
    "Mientras que la función objetiva son las utilidades de cada producto.<br/>\n",
    "De esta manera podemos obtener nuestra función objetiva la cual es:<br/>\n",
    "La función objetivo es:<br />\n",
    "$z = 10x+ 20y$ <br />\n"
   ]
  },
  {
   "cell_type": "markdown",
   "id": "88042d47",
   "metadata": {},
   "source": [
    "c) Planteamiento del problema matemático, utilizando la notación de programación lineal."
   ]
  },
  {
   "cell_type": "markdown",
   "id": "8bcc1384",
   "metadata": {},
   "source": [
    "A continuacion nos vamos a valer de un cuadro para llegar al planteamiento del problema en notación de programación lineal<br/>\n"
   ]
  },
  {
   "cell_type": "markdown",
   "id": "cf7a6d10",
   "metadata": {},
   "source": [
    "<img src='C3PL.png'>"
   ]
  },
  {
   "cell_type": "markdown",
   "id": "2f0431a3",
   "metadata": {},
   "source": [
    "Ahora podemos plantear la notación lineal <br/>\n",
    "Maximizar $z = 10x + 20y$ <br />\n",
    "sujeto a $ -0,2x  + 0,8y   ≤0$<br />\n",
    "$0,25x  + 0,50y    ≤500$<br />\n",
    "$x   ≤100$<br />\n",
    "$y  ≤50$<br />\n",
    "$x,y ≥0 $<br />"
   ]
  },
  {
   "cell_type": "markdown",
   "id": "df5a0c07",
   "metadata": {},
   "source": [
    "d) Solución del problema (gráfica o mediante el Simplex)."
   ]
  },
  {
   "cell_type": "markdown",
   "id": "7fb7d4c4",
   "metadata": {},
   "source": [
    "<img src='C2PL.png'>"
   ]
  },
  {
   "cell_type": "markdown",
   "id": "54847424",
   "metadata": {},
   "source": [
    "Analisis:Recordemos que para realizar el analisis del grafico debemos tomar en cuenta los vertices del poligono, en este caso tenemos:<br/>\n",
    "los puntos de intersección son: (0,0);(100,0);(100,25).De los cuales vamos a reemmplazar<br />en los valores de $z = 10x + 20y$  de la Ecuación Z.<br />\n",
    "Y vamos a comparar el maximo valor:<br />\n",
    "$Z = 10(0)+ 20(0)= 0$ <br />\n",
    "$Z = 10(100)+ 20(0)= 1000$ <br />\n",
    "$Z = 10(100)+ 20(25)= 1500$ <br />\n",
    "Respuesta:$Z = 10(100)+ 20(25)= 1500 dolares$, es el valor óptimo <br /> \n",
    "$Interpretación$: Cabe la pena aclarar que como queremos saber el valor optimo de ganancias, se debe maximizar el valor de Z<br/>\n",
    "Donde nos damos cuenta que las $esponjas$ $limpiadoras$ representan el 80 por ciento de la ganancia es decir debemos vender las 100 unidades que fabricamos en el dia mientras que de las $lanas$ $de$ $acero$ solo bastaria fabricar 25 al dia debido a que la venta de este producto solo representa un 20 por ciento al dia.\n"
   ]
  },
  {
   "cell_type": "markdown",
   "id": "547c56e2",
   "metadata": {},
   "source": [
    "e) Realice el análisis de sensibilidad."
   ]
  },
  {
   "cell_type": "markdown",
   "id": "9b3dc5d4",
   "metadata": {},
   "source": [
    "$Z = 10(100)+ 20(25)= 1500$ <br />\n",
    "Podemos notar que aun podemos incrementar 25 unidades mas de lana de acero:<br/>\n",
    "$Z = 10(100)+ 20(50)= 2000$ <br />\n",
    "Mientras que a las esponjas limpiadoras no podemos incrementar nada mas porque llegamos a su producción máxima diaria."
   ]
  },
  {
   "cell_type": "markdown",
   "id": "4704d74c",
   "metadata": {},
   "source": [
    "d) Encuentre y analice el problema dual."
   ]
  },
  {
   "cell_type": "markdown",
   "id": "65af9759",
   "metadata": {},
   "source": [
    "Esta es nuestra forma Primal<br/>\n",
    "Maximizar $z = 10x + 20y$ <br />\n",
    "sujeto a $ -0,2x  + 0,8y   ≤0$<br />\n",
    "$0,25x  + 0,50y    ≤500$<br />\n",
    "$x   ≤100$<br />\n",
    "$y  ≤50$<br />\n",
    "$x,y ≥0 $<br />"
   ]
  },
  {
   "cell_type": "markdown",
   "id": "4f6c59f9",
   "metadata": {},
   "source": [
    "Primero vamos a pasar a la forma del modo simplex:<br/>\n",
    " $z = 10x_1+ 20x_2+ 0s_1+0s_2 + S_3 + S_4$<br/>\n",
    " $-0,2x_1  + 0,8x_2+ s_1≤0$<br/>\n",
    " $0,25x_1  + 0,50x_2  + s_2≤500$<br/>\n",
    " $x_1   + s_3≤100$<br/>\n",
    " $x_2   + s_4≤50$<br/>\n",
    " $x_1  ,x_2   ≥0$<br/>"
   ]
  },
  {
   "cell_type": "markdown",
   "id": "acac99de",
   "metadata": {},
   "source": [
    "## Ahora vamos a obtener nuestra forma dual\n",
    "Debemos recordar que cuando pasamos de la forma Primal a la Dual el sentido de la inecuación cambia, es decir ahora vamos a minimizar y el sentido de la desigualdad será mayor o igual $≥$<br/>"
   ]
  },
  {
   "cell_type": "markdown",
   "id": "cc5d230a",
   "metadata": {},
   "source": [
    "Funciones sujetas a cambio:<br/>\n",
    "$-0,2x_1  + 0,8x_2+ s_1≤0$<br/>\n",
    " $0,25x_1  + 0,50x_2  + s_2≤500$<br/>\n",
    " $x_1   + s_3≤100$<br/>\n",
    " $x_2   + s_4≤50$<br/>"
   ]
  },
  {
   "cell_type": "markdown",
   "id": "4ed577c3",
   "metadata": {},
   "source": [
    "Desarrollo:<br/>\n",
    "Minimizar $w=0y_1 + 500y_2 + 100y_1 + 50y_2$<br/>\n",
    "$-0,2y_1+ 0,25y_2 ≥10$<br/>\n",
    "$y_1+ 0y_2≥ 10$<br/>\n",
    "$0,8y_1+ 0,50y_2 ≥20$<br/>\n",
    "$0y_1+ 1y_2≥ 20$<br/>\n",
    "$y_1≥0$<br/>\n",
    "$y_2≥0$<br/>"
   ]
  },
  {
   "cell_type": "markdown",
   "id": "37863036",
   "metadata": {},
   "source": [
    "Ahora simplificamos y obtenemos nuestra forma dual<br/>\n",
    "Minimizar $w=100y_1 + 550y_2$<br/>\n",
    "$-0,2y_1+ 0,25y_2 ≥10$<br/>\n",
    "$0,8y_1+ 0,50y_2 ≥20$<br/>\n",
    "$y_1 ≥ 10$<br/>\n",
    "$ y_2≥ 20$<br/>\n",
    "$y_1≥0$<br/>\n",
    "$y_2≥0$<br/>"
   ]
  }
 ],
 "metadata": {
  "kernelspec": {
   "display_name": "Python 3",
   "language": "python",
   "name": "python3"
  },
  "language_info": {
   "codemirror_mode": {
    "name": "ipython",
    "version": 3
   },
   "file_extension": ".py",
   "mimetype": "text/x-python",
   "name": "python",
   "nbconvert_exporter": "python",
   "pygments_lexer": "ipython3",
   "version": "3.8.8"
  }
 },
 "nbformat": 4,
 "nbformat_minor": 5
}
