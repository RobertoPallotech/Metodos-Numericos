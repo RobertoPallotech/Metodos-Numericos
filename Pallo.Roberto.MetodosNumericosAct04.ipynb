{
 "cells": [
  {
   "cell_type": "markdown",
   "id": "b9dc51dd",
   "metadata": {},
   "source": [
    " # <center> Universidad de las Fuerzas Armadas</center>\n",
    "  # <center> Métodos Numéricos</center>\n",
    "   ## Actividad n.-4\n",
    "   ## --------------------------------------------------------------------------------------------------------------------------------\n",
    "   ### Apellidos: **Pallo Yautibug**\n",
    "   ### Nombres: **Roberto Carlos**\n",
    "   ### NRC:_3657_\n",
    "   ## -------------------------------------------------------------------------------------------------------------------------------"
   ]
  },
  {
   "cell_type": "markdown",
   "id": "d3039e64",
   "metadata": {},
   "source": [
    "## 1.- Resuelva de forma gráfica y utilizando el Simplex el siguiente problema\n",
    "\n",
    "Maximizar $z = 3x_1+ 2x_2$ <br />\n",
    "sujeto a $ 2x_1  + x_2   ≤16$<br />\n",
    "$2x_1  + 3x_2    ≤40$<br />\n",
    "$3x_1  + x_2   ≤20$<br />\n",
    "$x_1  ,x_2   ≥0$<br />\n",
    "\n"
   ]
  },
  {
   "cell_type": "markdown",
   "id": "5d5c7fee",
   "metadata": {},
   "source": [
    "## Método Gráfico"
   ]
  },
  {
   "cell_type": "markdown",
   "id": "321c57ab",
   "metadata": {},
   "source": [
    "<img src='GraficoPL.png'>"
   ]
  },
  {
   "cell_type": "markdown",
   "id": "72dda847",
   "metadata": {},
   "source": [
    "Podemos observar que los puntos de intersección son: (0,6);(2,12);(4,8);(4,2)y (0,13).De los cuales vamos a reemmplazar<br />en los valores de $X_1$ y $X-2$ de la Ecuación Z.<br />\n",
    "Y vamos a comparar el maximo valor:<br />\n",
    "$Z = 3(0)+ 2(6)= 12$ <br />\n",
    "$Z = 3(2)+ 2(12)= 30$ <br />\n",
    "$Z = 3(4)+ 2(8)= 28$ <br />\n",
    "$Z = 3(4)+ 2(2)= 16$ <br />\n",
    "$Z = 3(0)+ 2(13)= 26$ <br />\n",
    "Respuesta:$Z = 3(2)+ 2(12)= 30$, es el valor óptimo <br /> "
   ]
  },
  {
   "cell_type": "markdown",
   "id": "b6543d3a",
   "metadata": {},
   "source": [
    "## Método Simplex"
   ]
  },
  {
   "cell_type": "markdown",
   "id": "0d4e83c3",
   "metadata": {},
   "source": [
    "A continuación vamos a hallar las variables de decisión y holgura para encontrar la solución óptima del sistema:"
   ]
  },
  {
   "cell_type": "markdown",
   "id": "2d9e7657",
   "metadata": {},
   "source": [
    "<img src='1PL.png'>"
   ]
  },
  {
   "cell_type": "markdown",
   "id": "a8e5e7c2",
   "metadata": {},
   "source": [
    "Como podemos observar en la nueva fila Z aún tenemos valores negativos entonces debemos volver a realizar los pasos hasta que no que quede ningún valor negativo.\n"
   ]
  },
  {
   "cell_type": "markdown",
   "id": "b0ec032b",
   "metadata": {},
   "source": [
    "<img src='2PL.png'>"
   ]
  },
  {
   "cell_type": "markdown",
   "id": "d3a62d49",
   "metadata": {},
   "source": [
    "Como podemos ver nuevamente tenemos valores negativos en la respuesta, asi que nuevamente debemos repetir los pasos anteriores hasta que no quede valores negativos para Z."
   ]
  },
  {
   "cell_type": "markdown",
   "id": "428134fe",
   "metadata": {},
   "source": [
    "<img src='3PL.png'>"
   ]
  },
  {
   "cell_type": "markdown",
   "id": "1ed3abb3",
   "metadata": {},
   "source": [
    "Respuesta: al final obtuvimos las respuestas para los valores de $X_1= 2$, $X-2=12$ y $Z=30$, si estos valores reemplazamos en la ecuación Z tenemos una igual<br/>\n",
    "$Z = 3(2)+ 2(12)$<br/>\n",
    "$ 30= 30$, donde son los mismos valores encontrados por el método gráfico."
   ]
  },
  {
   "cell_type": "markdown",
   "id": "8576934c",
   "metadata": {},
   "source": [
    "## 2.- Escriba el problema dual de los siguientes problemas primales<br/>\n",
    "Maximizar $z = -5x_1+ 2x_2$<br/>\n",
    "sujeto a $-x_1  + x_2   ≤-2$<br/>\n",
    "$2x_1  + 3x_2    ≤5$<br/>\n",
    "$x_1  ,x_2   ≥0$<br/>\n",
    "\n",
    "Minimizar    $z= 6x_1+ 3x_2$<br/>\n",
    "sujeto a  $6x_1- 3x_2+ x_3  ≤2$<br/>\n",
    "$3x_1  + 4x_2    + x_3≤5$<br/>\n",
    "$x_1  ,x_2,x_3   ≥0$<br/>\n",
    "\n"
   ]
  },
  {
   "cell_type": "markdown",
   "id": "12039458",
   "metadata": {},
   "source": [
    "## Primer Caso"
   ]
  },
  {
   "cell_type": "markdown",
   "id": "83a88e46",
   "metadata": {},
   "source": [
    "Esta es nuestra forma Primal<br/>\n",
    "Maximizar $z = -5x_1+ 2x_2$<br/>\n",
    "sujeto a $-x_1  + x_2   ≤-2$<br/>\n",
    "$2x_1  + 3x_2    ≤5$<br/>\n",
    "$x_1  ,x_2   ≥0$<br/>\n"
   ]
  },
  {
   "cell_type": "markdown",
   "id": "41231892",
   "metadata": {},
   "source": [
    "Primero vamos a pasar a la forma del modo simplex:<br/>\n",
    " $z = -5x_1+ 2x_2+ 0s_1+0s_2$<br/>\n",
    " $-x_1  + x_2+ s_1≤-2$<br/>\n",
    " $2x_1  + 3x_2     + s_2≤5$<br/>\n",
    " $x_1  ,x_2   ≥0$<br/>"
   ]
  },
  {
   "cell_type": "markdown",
   "id": "07248800",
   "metadata": {},
   "source": [
    "## Ahora vamos a obtener nuestra forma dual\n",
    "Debemos recordar que cuando pasamos de la forma Primal a la Dual el sentido de la inecuación cambia, es decir ahora vamos a minimizar y el sentido de la desigualdad será mayor o igual $≥$<br/>\n"
   ]
  },
  {
   "cell_type": "markdown",
   "id": "65472764",
   "metadata": {},
   "source": [
    "Funciones sujetas a cambio:<br/>\n",
    "sujeto a $-x_1  + x_2   ≤-2 (y_1)$<br/>\n",
    "$2x_1  + 3x_2    ≤5 (y_2)$<br/>"
   ]
  },
  {
   "cell_type": "markdown",
   "id": "8b28e001",
   "metadata": {},
   "source": [
    "Desarrollo:<br/>\n",
    "Minimizar $w=-2y_1 + 5y_2$<br/>\n",
    "$-y_1+2y_2≥-5$<br/>\n",
    "$y_1+3y_2≥2$<br/>\n",
    "$y_1≥0$<br/>\n",
    "$y_2≥0$<br/>"
   ]
  },
  {
   "cell_type": "markdown",
   "id": "a55f6778",
   "metadata": {},
   "source": [
    "## Segundo Caso"
   ]
  },
  {
   "cell_type": "markdown",
   "id": "5087b724",
   "metadata": {},
   "source": [
    "Esta es nuestra forma primal<br/>\n",
    "Minimizar    $z= 6x_1+ 3x_2$<br/>\n",
    "sujeto a  $6x_1- 3x_2+ x_3  ≤2$<br/>\n",
    "$3x_1  + 4x_2    + x_3≤5$<br/>\n",
    "$x_1  ,x_2,x_3   ≥0$<br/>\n"
   ]
  },
  {
   "cell_type": "markdown",
   "id": "b07ecba7",
   "metadata": {},
   "source": [
    "Primero vamos a pasar a la forma del modo simplex:<br/>\n",
    "  $z= 6x_1+ 3x_2 + 0x_3 + 0S_1 + 0S_2 + 0S_3$<br/>\n",
    "sujeto a  $6x_1- 3x_2+ x_3 + S_1  ≤2$<br/>\n",
    "$3x_1  + 4x_2    + x_3 + S_2≤5$<br/>\n",
    "$0x_1  + 0x_2    + 0x_3 + S_3≤0$<br/>\n",
    "$x_1  ,x_2,x_3   ≥0$<br/>"
   ]
  },
  {
   "cell_type": "markdown",
   "id": "5ac087b1",
   "metadata": {},
   "source": [
    "## Ahora vamos a obtener nuestra forma dual\n",
    "Debemos recordar que cuando pasamos de la forma Primal a la Dual el sentido de la inecuación cambia, es decir ahora vamos a Maximizar y el sentido de la desigualdad será menor o igual $≤$<br/>"
   ]
  },
  {
   "cell_type": "markdown",
   "id": "d6202e9e",
   "metadata": {},
   "source": [
    "Asi tambien cambiaremos el las variables de las restricciones como se ve a continuación:<br/>\n",
    "sujeto a  $6x_1- 3x_2+ x_3  ≤2 (y_1)$<br/>\n",
    "$3x_1  + 4x_2    + x_3≤5 (y_2)$<br/>\n",
    "$0x_1  + 0x_2    + 0x_3≤0 (y_3)$<br/>"
   ]
  },
  {
   "cell_type": "markdown",
   "id": "8a220284",
   "metadata": {},
   "source": [
    "Desarrollo:<br/>\n",
    "Maximizar $w=2y_1 + 5y_2+ 0y_3 $<br/>\n",
    " $6y_1- 3y_2+ 0y_3  ≤6 $<br/>\n",
    " $-3y_1 + 4y_2+ 0y_3  ≤3 $<br/>\n",
    " $1y_1- 1y_2+ 0y_3  ≤0 $<br/>\n",
    " $y_1≥0$<br/>\n",
    "$y_2≥0$<br/>\n",
    "$y_3≥0$<br/>"
   ]
  },
  {
   "cell_type": "markdown",
   "id": "bf8688ee",
   "metadata": {},
   "source": [
    "## 3. Una compañía fabrica dos productos, A y B. Los ingresos unitarios son  2 y  3 dolares, respectivamente.Las disponibilidades diarias de dos materias primas, M1 y M2, utilizadas en la fabricación de losdos productos son de 8 y 18 unidades, respectivamente. Una unidad de A utiliza 2 unidades de M1 y 2 unidades de M2, y una unidad de B utiliza 3 unidades de M1 y 6 unidades de M2."
   ]
  },
  {
   "cell_type": "markdown",
   "id": "8a512f81",
   "metadata": {},
   "source": [
    "(a) Determine los precios duales de M1 y M2 y sus intervalos de factibilidad"
   ]
  },
  {
   "cell_type": "markdown",
   "id": "9c5fa02d",
   "metadata": {},
   "source": [
    "Primero determinamos la función objetiva y las restricciones:<br />\n",
    "Donde x_1 son las unidades producidas del producto A;<br />\n",
    "x_2 son las unidades producidas del producto B;<br />\n",
    "La función objetivo es:<br />\n",
    "$z = 2x_1+ 3x_2$ <br />\n",
    "sujeto a <br />\n",
    "$M_1 : 2x_1  + 3x_2    ≤8$<br />\n",
    "$M_2 : 2x_1  + 6x_2   ≤18$<br />\n",
    "$x_1  ,x_2   ≥0$<br />"
   ]
  },
  {
   "cell_type": "markdown",
   "id": "6d5e4158",
   "metadata": {},
   "source": [
    "## Método Gráfico"
   ]
  },
  {
   "cell_type": "markdown",
   "id": "082e787d",
   "metadata": {},
   "source": [
    "<img src='2.1GraficoPL.png'>"
   ]
  },
  {
   "cell_type": "markdown",
   "id": "dc2ec290",
   "metadata": {},
   "source": [
    "Podemos observar graficamente que la función objetivo Z y la restricción $M_1$ son paralelas y que el valor optimo se encuentra entre "
   ]
  },
  {
   "cell_type": "markdown",
   "id": "81fb1ff3",
   "metadata": {},
   "source": [
    "## Método Simplex"
   ]
  },
  {
   "cell_type": "markdown",
   "id": "53a6a14e",
   "metadata": {},
   "source": [
    "A continuación vamos a hallar las variables de decisión y holgura para encontrar la solución óptima del sistema:"
   ]
  },
  {
   "cell_type": "markdown",
   "id": "9a074c36",
   "metadata": {},
   "source": [
    "<img src='1.1PL.png'>"
   ]
  },
  {
   "cell_type": "markdown",
   "id": "f9c23205",
   "metadata": {},
   "source": [
    "Como podemos ver para la variable objetivo Z hemos encotrado la solucion más óptima la cual es:<br/>\n",
    "$X_1=0 y X_2= 2,67 "
   ]
  },
  {
   "cell_type": "markdown",
   "id": "03d1d23c",
   "metadata": {},
   "source": [
    "Ahora analizaremos el $precio$ $dual$ $o$ $precio$ $sombra$ de $M_1$:<br/>\n"
   ]
  },
  {
   "cell_type": "markdown",
   "id": "0003cf28",
   "metadata": {},
   "source": [
    "<img src='2.4PL.png'>"
   ]
  },
  {
   "cell_type": "markdown",
   "id": "d3a53ea7",
   "metadata": {},
   "source": [
    "Como podemos notar disponiamos inicialmente de 8 unidades al dia de la materia prima $(M_1)$, para obtener el valor dual o sombra incrementamos en una unidad la producción al dia de $M_1$.<br/>\n",
    "Al comparar el resultado del modo simplex del valor original podemos ver que se incremento el valor de la variable objetivo Z de $8$ a $9$<br/>\n",
    "Con esto pódemos encontrar el valor dual de $M_1$:<br/>\n"
   ]
  },
  {
   "cell_type": "markdown",
   "id": "625dd0f1",
   "metadata": {},
   "source": [
    "Precio Dual M1=(Zfinal-Zinicial)<br/>\n",
    "Precio Dual M1=9-1<br/>\n",
    "$Respuesta:$ 1 dolar<br/>"
   ]
  },
  {
   "cell_type": "markdown",
   "id": "19b79a3c",
   "metadata": {},
   "source": [
    "Intervalos de factibilidad:<br/>\n",
    "Disponibilidad minima de M1 en $(0,2.67)$<br/>\n",
    "Disponibilidad minima de M2 en $(4.5,0)$<br/>"
   ]
  },
  {
   "cell_type": "markdown",
   "id": "0edb37d3",
   "metadata": {},
   "source": [
    "Valor dual de $𝑀2$:<br/>\n",
    "Dado que $M_1$ es paralelo a la función objetiva, $Z$ Si la función objetivo es paralela a una de las restricciones,<br/>  Cualquier  punto  en  el  segmento de la recta será solución del problema.Es decir tiene el mismo valor optimo en todos la recta<br/> "
   ]
  },
  {
   "cell_type": "markdown",
   "id": "2f24ae1d",
   "metadata": {},
   "source": [
    "(b) Suponga que pueden adquirirse 4 unidades más de M1 al costo de 30 centavos por unidad.\n",
    "¿Recomendaría la compra adicional?"
   ]
  },
  {
   "cell_type": "markdown",
   "id": "233465e3",
   "metadata": {},
   "source": [
    "Desarrollo:<br/>\n",
    "si cada unidad de M1 cuesta 2 dolares; al adquirir 4 * 0.30=1.2 dolares<br/>\n",
    "Si sumamos las 4 unidades al resultado diario: 8+4= 12<br/>\n",
    "$Respuesta:$Se recomienda la compra dado que el precio de cada unidad de M1 seria de 1 dolar en producción; y al momento<br/>\n",
    "de adquirir los 4 apenas gastamos 1.20 dolares."
   ]
  },
  {
   "cell_type": "markdown",
   "id": "d98a4614",
   "metadata": {},
   "source": [
    "(c) ¿Cuánto es lo máximo que la compañía debe pagar por unidad de M2?"
   ]
  },
  {
   "cell_type": "markdown",
   "id": "086cea65",
   "metadata": {},
   "source": [
    "Respuesta:No se puede definir dado que M2 es una restricción redundante."
   ]
  },
  {
   "cell_type": "markdown",
   "id": "dc960a16",
   "metadata": {},
   "source": [
    "(d) Si la disponibilidad de M2 se incrementa en 5 unidades, determine el ingreso óptimo asociado."
   ]
  },
  {
   "cell_type": "markdown",
   "id": "d9eff7d2",
   "metadata": {},
   "source": [
    "Respuesta: al ser una restricción redundante no se puede incrementar más de 8 unidades."
   ]
  },
  {
   "cell_type": "markdown",
   "id": "ffa1b66c",
   "metadata": {},
   "source": [
    "## 4. Plantee el siguiente problema y resuélvalo utilizando un software de programación lineal.Una refinería fabrica dos tipos de combustible para avión, F1 y F2, mezclando cuatro tipos de gasolina, A, B, C y D. El combustible F1 incluye las gasolinas A, B, C y D en la proporción 1:1:2:4, y el combustible F2 incluye la proporción 2:2:1:3. Los límites de abasto de A, B, C y D son 1 000, 1 200, 900 y 1 500 barriles/día, respectivamente. Los costos por barril de las gasolinas A, B, C y D son  120 dolares,  90 dolares,  100 dolares y  150 dolares, respectivamente. Las combustibles F1 y F2 se venden a  200 dolares y  250 dolares por barril, respectivamente. La demanda mínima de F1 y F2 es de 200 y 400 barriles/día, respectivamente."
   ]
  },
  {
   "cell_type": "markdown",
   "id": "bff77a8a",
   "metadata": {},
   "source": [
    "Comenzamos analizando el problema, definiendo variables y funciones:<br/>\n",
    "    "
   ]
  },
  {
   "cell_type": "markdown",
   "id": "92b1a450",
   "metadata": {},
   "source": [
    "<img src='4SOL.png'>"
   ]
  },
  {
   "cell_type": "markdown",
   "id": "13a76a46",
   "metadata": {},
   "source": [
    "## Resolución por Solver"
   ]
  },
  {
   "cell_type": "markdown",
   "id": "eab96044",
   "metadata": {},
   "source": [
    "<img src='5SOL.png'>"
   ]
  },
  {
   "cell_type": "markdown",
   "id": "934274c2",
   "metadata": {},
   "source": [
    "$Respuesta:$ Podemos notar que lo minimo que podemos gastar en el dia es $208020$ dolares pero con escases de barriles de gasolina necesarios para las mezclas lo cual impide fabricar los combustibles F1 y F2."
   ]
  }
 ],
 "metadata": {
  "kernelspec": {
   "display_name": "Python 3",
   "language": "python",
   "name": "python3"
  },
  "language_info": {
   "codemirror_mode": {
    "name": "ipython",
    "version": 3
   },
   "file_extension": ".py",
   "mimetype": "text/x-python",
   "name": "python",
   "nbconvert_exporter": "python",
   "pygments_lexer": "ipython3",
   "version": "3.8.8"
  }
 },
 "nbformat": 4,
 "nbformat_minor": 5
}
