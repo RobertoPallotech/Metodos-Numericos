{
 "cells": [
  {
   "cell_type": "markdown",
   "id": "a07dce49",
   "metadata": {},
   "source": [
    "# <center> Universidad de las Fuerzas Armadas</center>\n",
    "  # <center> Métodos Numéricos</center>\n",
    "   ## Actividad n.-2\n",
    "   ## --------------------------------------------------------------------------------------------------------------------------------\n",
    "   ### Apellidos: **Pallo Yautibug**\n",
    "   ### Nombres: **Roberto Carlos**\n",
    "   ### NRC:_3657_\n",
    "   ## -------------------------------------------------------------------------------------------------------------------------------"
   ]
  },
  {
   "cell_type": "markdown",
   "id": "016b03cb",
   "metadata": {},
   "source": [
    "## Ejercicios\n",
    " **1.-** Utilice todos los métodos estudiados (Newton, Bisección y Secante) para encontrar la raíz de la\n",
    "siguiente función: $f(x) = x + cos x$ en el intervalo $[-2; 0]$, con cuatro cifras decimales."
   ]
  },
  {
   "cell_type": "markdown",
   "id": "24d9f315",
   "metadata": {},
   "source": [
    "## Método de Newton\n",
    "\n",
    "Si tememos $f(x)=x+cos x$, entonces $f'(x)=1-sen x$"
   ]
  },
  {
   "cell_type": "markdown",
   "id": "0549cce8",
   "metadata": {},
   "source": [
    "A continuación vamos a desarrollar las siguientes expresiones utlizando el algoritmo implementado para encontrar la raiz<br />\n",
    "de las siguientes funciones por el Método de Newton."
   ]
  },
  {
   "cell_type": "code",
   "execution_count": 462,
   "id": "097a1b40",
   "metadata": {},
   "outputs": [],
   "source": [
    "import numpy as np\n",
    "def newton(f,df,x0,nmax,tol):\n",
    "    xi=x0\n",
    "    for i in range(0,nmax):\n",
    "        xi=xi-f(xi)/df(xi)\n",
    "        if abs(f(xi)) < tol:\n",
    "            print(xi,' encontrado con ',i,' iteraciones')\n",
    "            break\n",
    "    return None"
   ]
  },
  {
   "cell_type": "code",
   "execution_count": 463,
   "id": "2922cebb",
   "metadata": {},
   "outputs": [],
   "source": [
    "f = lambda x: x+np.cos(x)# Funcion original\n",
    "df = lambda x: 1-np.sin(x)# Encontramos la derivada de la función"
   ]
  },
  {
   "cell_type": "code",
   "execution_count": 464,
   "id": "2cf07d82",
   "metadata": {},
   "outputs": [
    {
     "name": "stdout",
     "output_type": "stream",
     "text": [
      "-0.7390897242053693  encontrado con  1  iteraciones\n"
     ]
    }
   ],
   "source": [
    "newton(f,df,-2,20,1e-4)"
   ]
  },
  {
   "cell_type": "markdown",
   "id": "ea24a05e",
   "metadata": {},
   "source": [
    "## Método de Bisección\n",
    "\n",
    "Si tememos $f(x)=x+cos x$, entonces: "
   ]
  },
  {
   "cell_type": "markdown",
   "id": "790e0c2b",
   "metadata": {},
   "source": [
    "A continuación vamos a desarrollar las siguientes expresiones utlizando el algoritmo implementado para encontrar la raiz de <br />las siguientes funciones por el Método de bisección el cual consiste en tomar un intervalo $[a,b]$ e ir dividendo sucesivamente<br /> hasta hallar la raiz existente en el intervalo mas proximo."
   ]
  },
  {
   "cell_type": "code",
   "execution_count": 465,
   "id": "7e0970b8",
   "metadata": {},
   "outputs": [],
   "source": [
    "import matplotlib.pyplot as plt\n",
    "import numpy as np\n",
    "#Definimos la funcion\n",
    "def f(x):\n",
    "    return x+np.cos(x)\n",
    "  \n",
    "#Definir la funcion para la biseccion \n",
    "def bisec(a,b,tol):\n",
    " \n",
    "    if (f(a) * f(b) >= 0):\n",
    "        print(\"No existe raiz en el rango \",a,\",\",b,\"\\n\")\n",
    "        return\n",
    "    c = a\n",
    "    i = 0\n",
    "    n = 12\n",
    "   \n",
    "    while (abs(b-a) > tol):\n",
    "        i=i+1\n",
    "        #Se suma y divide para 2 los extremos del intervalo hast encontrar la raiz\n",
    "        c = (a+b)/2\n",
    "        # Comprobamos si el punto medio es la raíz \n",
    "        if (f(c) == 0.0):\n",
    "            break\n",
    "        # decidimos en cual intervalo continuamos con los pasos anteriores\n",
    "        if (f(c)*f(a) < 0):\n",
    "            b = c\n",
    "        else:\n",
    "            a = c         \n",
    "    print(\"En la interración : \",i,\"se encuentra aproximadamente la raiz en el intervalo\",a,\",\",b)\n",
    "       \n",
    "    print(\"El valor de la raiz es : \",c)\n",
    "    \n"
   ]
  },
  {
   "cell_type": "code",
   "execution_count": 466,
   "id": "2daac7f6",
   "metadata": {},
   "outputs": [
    {
     "name": "stdout",
     "output_type": "stream",
     "text": [
      "En la interración :  21 se encuentra aproximadamente la raiz en el intervalo -0.7390851974487305 , -0.7390842437744141\n",
      "El valor de la raiz es :  -0.7390851974487305\n"
     ]
    }
   ],
   "source": [
    "# Inicializando Datos de intervalos y tolerancia\n",
    "a = -2\n",
    "b = 0\n",
    "tol = 0.000001\n",
    "bisec(a, b, tol)\n",
    " \n"
   ]
  },
  {
   "cell_type": "markdown",
   "id": "12ca32bb",
   "metadata": {},
   "source": [
    "## Método de Secante\n",
    "\n",
    "Si tememos $f(x)=x+cos x$, entonces:"
   ]
  },
  {
   "cell_type": "markdown",
   "id": "3c5673de",
   "metadata": {},
   "source": [
    "Es un algoritmo o método de la secante parte de dos puntos ( no sólo uno como el método de Newton) y estima la tangente<br />\n",
    "(es decir, la pendiente de la recta) por una aproximación."
   ]
  },
  {
   "cell_type": "code",
   "execution_count": 467,
   "id": "12e4f43c",
   "metadata": {},
   "outputs": [],
   "source": [
    "import matplotlib.pyplot as plt\n",
    "import numpy as np\n",
    "#Definimos la funcion\n",
    "def f(x):\n",
    "    return x+np.cos(x)\n",
    "#Definir la funcion para la secante  \n",
    "def secante(a, b, tol):\n",
    "    n = 0\n",
    "    xm = 0\n",
    "    x0 = 0\n",
    "    c = 0\n",
    "    if (f(a) * f(b) < 0):\n",
    "        while True:\n",
    "             \n",
    "            # Calculamos el valor medio del intervalo\n",
    "            x0 = ((a * f(b) - b * f(a)) /(f(b) - f(a)));\n",
    " \n",
    "            # Comprobamos si x0 en la raiz buscada\n",
    "            c = f(a) * f(x0);\n",
    " \n",
    "            # Actualiza el valor de los intervalos\n",
    "            a = b;\n",
    "            b = x0;\n",
    " \n",
    "            # Actualiza en uno el numero de interacciones\n",
    "            n += 1;\n",
    " \n",
    "            # Si x0 es raiz de la ecuación en el intervalo dado\n",
    "            if (c == 0):\n",
    "            # si x0 es la raiz detenemos el bucle\n",
    "                break;\n",
    "            xm = ((a * f(b) - b * f(a)) /(f(b) - f(a)));\n",
    "             \n",
    "            if(abs(xm - x0) < tol):\n",
    "                break;\n",
    "         \n",
    "        print(\"Raiz de la función =\",round(x0, 15));\n",
    "        print(\"No. de interacciones= \", n);\n",
    "         \n",
    "    else:\n",
    "        print(\"No posee raiz en el intervalo\");\n",
    "\n"
   ]
  },
  {
   "cell_type": "code",
   "execution_count": 468,
   "id": "87baafc8",
   "metadata": {
    "scrolled": true
   },
   "outputs": [
    {
     "name": "stdout",
     "output_type": "stream",
     "text": [
      "Raiz de la función = -0.739085137019994\n",
      "No. de interacciones=  5\n"
     ]
    }
   ],
   "source": [
    "# Inicialización de datos como extremos del intervalo y tolerancia \n",
    "x1 = -2;\n",
    "x2 = 0;\n",
    "tol = 0.000001;\n",
    "secante(x1, x2, tol);"
   ]
  },
  {
   "cell_type": "markdown",
   "id": "eea8f088",
   "metadata": {},
   "source": [
    "**2.-** Encuentre la intersección de las siguientes funciones: $f(x) = 3 - x$ y $g(x) = ln x$, con tres cifras\n",
    "decimales."
   ]
  },
  {
   "cell_type": "markdown",
   "id": "bea79c64",
   "metadata": {},
   "source": [
    "Sea: $f(x) = 3 - x$ y $g(x) = ln x$, entonces:\n",
    "\n"
   ]
  },
  {
   "cell_type": "markdown",
   "id": "2d954913",
   "metadata": {},
   "source": [
    "Igualamos a cero y formamos una nueva función:\n",
    "$3 - x = lnx$<br />\n",
    "$lnx - 3 + x = 0$<br />\n",
    "$h(x) = lnx - 3 + x$<br />"
   ]
  },
  {
   "cell_type": "markdown",
   "id": "d96388d7",
   "metadata": {},
   "source": [
    "Para encontrar el punto de intersección entre estas dos variables vamos a utilizar el Metodo de Newton:<br />\n",
    "Utilizamos para esto los siguientes datos:<br />\n",
    "$h(x) = lnx - 3 + x$<br />\n",
    "$h'(x) = \\frac{1}{x}+1$<br />\n",
    "$Xn = x_a- \\frac {ln - 3 + x} {h'(x)}$<br />\n",
    "       "
   ]
  },
  {
   "cell_type": "markdown",
   "id": "f7ae4e47",
   "metadata": {},
   "source": [
    "Vamos a comenzar con la segunda interacción; donde x_a=2<br />\n",
    "$X_2=2-\\frac {ln(2) - 3 + 2} {\\frac{1}{2}+1}$<br />\n",
    "$X_2=2-\\frac {- 0,307 }{1,5}$<br />\n",
    "$X_2=2-(-0,204)$<br />\n",
    "$X_2=2,204)$<br />"
   ]
  },
  {
   "cell_type": "markdown",
   "id": "e59d6cd3",
   "metadata": {},
   "source": [
    "Reemplazamos $X_2=2,204)$ en valor en $f(x) = 3 - x$:<br />\n",
    "$f(x) = 3 - 2,204$:<br />\n",
    "$f(x) = 0,796$:<br />"
   ]
  },
  {
   "cell_type": "markdown",
   "id": "67af3148",
   "metadata": {},
   "source": [
    "Respuesta:el punto de interseccion se encuentra en las coordenadas:<br />\n",
    "        $X=2,204$<br />\n",
    "        $Y = 0,796$:<br />"
   ]
  },
  {
   "cell_type": "markdown",
   "id": "d3502c33",
   "metadata": {},
   "source": [
    "**3.-** Programe el método de sustitución regresiva. Analice el número de operaciones del algoritmo para\n",
    "matrices de tamaño $3 x 3$."
   ]
  },
  {
   "cell_type": "code",
   "execution_count": 469,
   "id": "f079bb1e",
   "metadata": {},
   "outputs": [],
   "source": [
    "import numpy as np\n",
    "\n",
    "A1 = np.array([[1,6,5],[0,1,8],[0,0,1]])\n",
    "\n",
    "B1 = np.array([[7],\n",
    "              [9],\n",
    "              [6]])"
   ]
  },
  {
   "cell_type": "code",
   "execution_count": 470,
   "id": "cfd68843",
   "metadata": {},
   "outputs": [],
   "source": [
    "n=len(A) # numero de filas\n",
    "x=np.zeros(n) # vector solucion\n",
    "for i in range(ultfil,0-1,-1):\n",
    "    pivote = AB[i,i]\n",
    "    for k in range(i-1,0-1,-1):\n",
    "        factor = AB[k,i]/pivote\n",
    "        AB[k,:] = AB[k,:] - AB[i,:]*factor\n",
    "    # diagonal a unos\n",
    "    AB[i,:] = AB[i,:]/AB[i,i]\n",
    "    x = np.copy(AB[:,ultcolum])"
   ]
  },
  {
   "cell_type": "code",
   "execution_count": 471,
   "id": "faa43fb8",
   "metadata": {
    "scrolled": false
   },
   "outputs": [
    {
     "name": "stdout",
     "output_type": "stream",
     "text": [
      "Matriz aumentada:\n",
      "[[1 6 2 4]\n",
      " [0 1 8 8]\n",
      " [0 0 1 5]]\n"
     ]
    }
   ],
   "source": [
    "print('Matriz aumentada:')\n",
    "print(AB11)"
   ]
  },
  {
   "cell_type": "code",
   "execution_count": 472,
   "id": "c91f7ff9",
   "metadata": {
    "scrolled": true
   },
   "outputs": [
    {
     "name": "stdout",
     "output_type": "stream",
     "text": [
      "solución de X: \n",
      "[151  50  19  17]\n"
     ]
    }
   ],
   "source": [
    "print('solución de X: ')\n",
    "print(x)"
   ]
  },
  {
   "cell_type": "markdown",
   "id": "123c0970",
   "metadata": {},
   "source": [
    "**4.-** Una importante parte de la física es la termodinámica que es el estudio de la transferencia de calor.\n",
    "En este ejercicio vamos a determinar la distribución de temperatura de estado estable de una placa\n",
    "delgada cuando se conoce la temperatura en los bordes.<br />\n",
    " Suponga que la placa que se ilustra en la figura representa una sección transversal de una viga de\n",
    "metal, con flujo de calor despreciable en la dirección perpendicular a la placa. Sean T1, T2, T3 y\n",
    "T4 las temperaturas en los cuatro nodos interiores de la malla en la figura. La temperatura en un\n",
    "nodo es aproximadamente igual al promedio de las temperaturas de los cuatro nodos más cercanos,\n",
    "esto es, a la izquierda, arriba, a la derecha y abajo.<br />\n",
    "Escriba un sistema de ecuaciones cuya solución de estimaciones de las temperaturas T1, T2, T3 y\n",
    "T4."
   ]
  },
  {
   "cell_type": "markdown",
   "id": "637ac1d5",
   "metadata": {},
   "source": [
    "<img src='placa.png'>"
   ]
  },
  {
   "cell_type": "markdown",
   "id": "0ca85e9c",
   "metadata": {},
   "source": [
    "La temperatura $T_1$ la puedo calcular como: $ 𝑻_𝟏=\\frac{𝟏𝟎+𝟐𝟎+𝑻_𝟐+𝑻_3}{4}$<br /> Después  simplifico  las  constantes  y  reescribo  la  ecuación  obteniendo $𝟒𝑻_𝟏−𝑻_𝟐−𝑻_3+ 0T_4 = 𝟑𝟎$, ésta  expresión  me  representa  la  primera  ecuación  de  mi  sistema  de ecuaciones lineales."
   ]
  },
  {
   "cell_type": "markdown",
   "id": "43b76a3d",
   "metadata": {},
   "source": [
    "La temperatura $T_2$ la puedo calcular como: $ 𝑻_2=\\frac{𝑻_1+20+40+𝑻_4}{4}$<br /> \n",
    "Después  simplifico  las  constantes  y  reescribo  la  ecuación  obteniendo $−𝑻_1+𝟒𝑻_2+0T_3−𝑻_4 = 6𝟎$, ésta  expresión  me  representa  la  primera  ecuación  de  mi  sistema  de ecuaciones lineales."
   ]
  },
  {
   "cell_type": "markdown",
   "id": "b0d672df",
   "metadata": {},
   "source": [
    "La temperatura $T_3$ la puedo calcular como: $ 𝑻_3=\\frac{10+𝑻_1+𝑻_4+30}{4}$<br /> \n",
    "Después  simplifico  las  constantes  y  reescribo  la  ecuación  obteniendo $−𝑻_1+ 0T_2+𝟒𝑻_3-T_4 = 4𝟎$, ésta  expresión  me  representa  la  primera  ecuación  de  mi  sistema  de ecuaciones lineales."
   ]
  },
  {
   "cell_type": "markdown",
   "id": "74ff8c7b",
   "metadata": {},
   "source": [
    "La temperatura $T_4$ la puedo calcular como: $ 𝑻_4=\\frac{𝑻_3+𝑻_2+40+30}{4}$<br /> \n",
    "Después  simplifico  las  constantes  y  reescribo  la  ecuación  obteniendo $0𝑻_1−𝑻_2-T_3+𝟒𝑻_4 = 70$, ésta  expresión  me  representa  la  primera  ecuación  de  mi  sistema  de ecuaciones lineales."
   ]
  },
  {
   "cell_type": "markdown",
   "id": "25faa076",
   "metadata": {},
   "source": [
    "Tenemos entonces el siguiente sistema de ecuaciones:\n",
    "   $$\n",
    "f(x)=\\left\\{\n",
    "\\begin{array}{ll}\n",
    "𝟒𝑻_𝟏−𝑻_𝟐−𝑻_3+ 0T_4 = 𝟑𝟎 &  \\\\\n",
    "−𝑻_1+𝟒𝑻_2+0T_3−𝑻_4 = 6𝟎  &  \\\\\n",
    "−𝑻_1+ 0T_2+𝟒𝑻_3-T_4 = 4𝟎  &  \\\\\n",
    "0𝑻_1−𝑻_2-T_3+𝟒𝑻_4 = 70  &  \\\\\n",
    "\\end{array}\n",
    "\\right.\n",
    "$$"
   ]
  },
  {
   "cell_type": "markdown",
   "id": "65e02043",
   "metadata": {},
   "source": [
    "Programe el método de eliminación gaussiana y halle el valor de estas temperaturas. Utilice como\n",
    "apoyo el ejercicio del literal anterior."
   ]
  },
  {
   "cell_type": "code",
   "execution_count": 473,
   "id": "ec788314",
   "metadata": {},
   "outputs": [],
   "source": [
    "import numpy as np\n",
    "A = np.array([[4,-1,-1, 0],[-1,4,0,-1],[-1,0,4,-1],[0,-1,-1,4]])\n",
    "\n",
    "B= np.array([[30],\n",
    "              [60],\n",
    "              [40],\n",
    "              [70]])\n"
   ]
  },
  {
   "cell_type": "code",
   "execution_count": 474,
   "id": "3b3a07f7",
   "metadata": {
    "scrolled": true
   },
   "outputs": [],
   "source": [
    "# Matriz aumentada\n",
    "AB  = np.concatenate((A,B),axis=1)\n",
    "AB0 = np.copy(AB)"
   ]
  },
  {
   "cell_type": "code",
   "execution_count": 475,
   "id": "6eeed7d0",
   "metadata": {},
   "outputs": [],
   "source": [
    "# elimina hacia atras\n",
    "ultfil = n-1\n",
    "ultcolum = m-1\n",
    "for i in range(ultfil,0-1,-1):\n",
    "    pivot = AB[i,i]\n",
    "    for k in range(i-1,0-1,-1):\n",
    "        factor = AB[k,i]/pivot\n",
    "        AB[k,:] = AB[k,:] - AB[i,:]*factor\n",
    "    # diagonal a unos\n",
    "    AB[i,:] = AB[i,:]/AB[i,i]\n",
    "a = np.copy(AB[:,ultcolum])\n",
    "a = np.transpose([a])\n"
   ]
  },
  {
   "cell_type": "code",
   "execution_count": 476,
   "id": "a17de5ab",
   "metadata": {},
   "outputs": [
    {
     "name": "stdout",
     "output_type": "stream",
     "text": [
      "solución de X: \n",
      "[[37]\n",
      " [25]\n",
      " [19]\n",
      " [17]]\n"
     ]
    }
   ],
   "source": [
    "print('solución de X: ')\n",
    "print(a)"
   ]
  },
  {
   "cell_type": "markdown",
   "id": "7f0b190f",
   "metadata": {},
   "source": [
    "**5.-** Programe el pivoteo parcial en el algoritmo de eliminación gaussiana. Utilice este nuevo programa\n",
    "para resolver el ejercicio anterior. Compare los resultados."
   ]
  },
  {
   "cell_type": "code",
   "execution_count": 477,
   "id": "fea13970",
   "metadata": {},
   "outputs": [],
   "source": [
    "import numpy as np\n",
    "\n",
    "# INGRESO\n",
    "A = np.array([[4,-1,-1, 0],[-1,4,0,-1],[-1,0,4,-1],[0,-1,-1,4]])\n",
    "\n",
    "B = np.array([[30],\n",
    "              [60],\n",
    "              [40],\n",
    "              [70]])"
   ]
  },
  {
   "cell_type": "code",
   "execution_count": 478,
   "id": "8fe6611d",
   "metadata": {},
   "outputs": [],
   "source": [
    "\n",
    "# Evitar truncamiento en operaciones\n",
    "A = np.array(A,dtype=float) \n",
    "# Matriz aumentada\n",
    "AB = np.concatenate((A,B),axis=1)\n",
    "AB1 = np.copy(AB)"
   ]
  },
  {
   "cell_type": "code",
   "execution_count": 479,
   "id": "b6c1bd15",
   "metadata": {},
   "outputs": [],
   "source": [
    "# Pivoteo parcial por filas\n",
    "tam = np.shape(AB)\n",
    "n = tam[0]\n",
    "m = tam[1]"
   ]
  },
  {
   "cell_type": "code",
   "execution_count": 480,
   "id": "6a85cd77",
   "metadata": {},
   "outputs": [],
   "source": [
    "# Para cada fila en AB\n",
    "for i in range(0,n-1,1):\n",
    "    # columna desde diagonal i en adelante\n",
    "    columna = abs(AB[i:,i])\n",
    "    dife = np.argmax(columna)\n",
    "\n",
    "    # buscar 0 está en diagonal\n",
    "    if (dife !=0):\n",
    "        # intercambia filas\n",
    "        temporal = np.copy(AB[i,:])\n",
    "        AB[i,:] = AB[dife+i,:]\n",
    "        AB[dife+i,:] = temporal\n",
    "        AB2 = np.copy(AB)   "
   ]
  },
  {
   "cell_type": "code",
   "execution_count": 481,
   "id": "7485c39e",
   "metadata": {},
   "outputs": [],
   "source": [
    "# eliminacion hacia adelante\n",
    "for i in range(0,n-1,1):\n",
    "    pivote = AB[i,i]\n",
    "    adelante = i + 1\n",
    "    for k in range(adelante,n,1):\n",
    "        factor = AB[k,i]/pivote\n",
    "        AB[k,:] = AB[k,:] - AB[i,:]*factor\n",
    "        AB2 = np.copy(AB)"
   ]
  },
  {
   "cell_type": "code",
   "execution_count": 482,
   "id": "4d6f2cdb",
   "metadata": {},
   "outputs": [],
   "source": [
    "# elimina hacia atras\n",
    "ultfila = n-1\n",
    "ultcolumna = m-1\n",
    "for i in range(ultfila,0-1,-1):\n",
    "    pivot = AB[i,i]\n",
    "    atras = i-1 \n",
    "    for k in range(atras,0-1,-1):\n",
    "        factor = AB[k,i]/pivot\n",
    "        AB[k,:] = AB[k,:] - AB[i,:]*factor\n",
    "    # diagonal a unos\n",
    "    AB[i,:] = AB[i,:]/AB[i,i]\n",
    "X = np.copy(AB[:,ultcolumna])\n",
    "X = np.transpose([X])"
   ]
  },
  {
   "cell_type": "code",
   "execution_count": 483,
   "id": "2017723a",
   "metadata": {
    "scrolled": true
   },
   "outputs": [
    {
     "name": "stdout",
     "output_type": "stream",
     "text": [
      "Matriz aumentada:\n",
      "[[ 4. -1. -1.  0. 30.]\n",
      " [-1.  4.  0. -1. 60.]\n",
      " [-1.  0.  4. -1. 40.]\n",
      " [ 0. -1. -1.  4. 70.]]\n"
     ]
    }
   ],
   "source": [
    "print('Matriz aumentada:')\n",
    "print(AB1)"
   ]
  },
  {
   "cell_type": "code",
   "execution_count": 484,
   "id": "48ed913f",
   "metadata": {
    "scrolled": false
   },
   "outputs": [
    {
     "name": "stdout",
     "output_type": "stream",
     "text": [
      "Pivoteo Parcial\n",
      "[[  4.          -1.          -1.           0.          30.        ]\n",
      " [  0.           3.75        -0.25        -1.          67.5       ]\n",
      " [  0.           0.           3.73333333  -1.06666667  52.        ]\n",
      " [  0.           0.           0.           3.42857143 102.85714286]]\n"
     ]
    }
   ],
   "source": [
    "print(\"Pivoteo Parcial\")\n",
    "print(AB2)"
   ]
  },
  {
   "cell_type": "code",
   "execution_count": 485,
   "id": "6c3616cf",
   "metadata": {},
   "outputs": [
    {
     "name": "stdout",
     "output_type": "stream",
     "text": [
      "eliminacion hacia adelante\n",
      "[[  4.          -1.          -1.           0.          30.        ]\n",
      " [  0.           3.75        -0.25        -1.          67.5       ]\n",
      " [  0.           0.           3.73333333  -1.06666667  52.        ]\n",
      " [  0.           0.           0.           3.42857143 102.85714286]]\n"
     ]
    }
   ],
   "source": [
    "print('eliminacion hacia adelante')\n",
    "print(AB2)"
   ]
  },
  {
   "cell_type": "code",
   "execution_count": 486,
   "id": "7fed9a9d",
   "metadata": {},
   "outputs": [
    {
     "name": "stdout",
     "output_type": "stream",
     "text": [
      "eliminación hacia atrás\n",
      "[[ 1.   0.   0.   0.  20. ]\n",
      " [ 0.   1.   0.   0.  27.5]\n",
      " [ 0.   0.   1.   0.  22.5]\n",
      " [ 0.   0.   0.   1.  30. ]]\n"
     ]
    }
   ],
   "source": [
    "print('eliminación hacia atrás')\n",
    "print(AB)"
   ]
  },
  {
   "cell_type": "code",
   "execution_count": 487,
   "id": "7f399916",
   "metadata": {
    "scrolled": true
   },
   "outputs": [
    {
     "name": "stdout",
     "output_type": "stream",
     "text": [
      "solución de X: \n",
      "[[20. ]\n",
      " [27.5]\n",
      " [22.5]\n",
      " [30. ]]\n"
     ]
    }
   ],
   "source": [
    "print('solución de X: ')\n",
    "print(X)"
   ]
  },
  {
   "cell_type": "markdown",
   "id": "b3af438a",
   "metadata": {},
   "source": [
    "Respuesta:Difieren muchos los resultados:"
   ]
  },
  {
   "cell_type": "code",
   "execution_count": 489,
   "id": "66cb9a42",
   "metadata": {},
   "outputs": [
    {
     "name": "stdout",
     "output_type": "stream",
     "text": [
      "solución de Metodo Eliminación Gauss: \n",
      "[[37]\n",
      " [25]\n",
      " [19]\n",
      " [17]]\n",
      "solución de Metodo con Pivoteo Parcial o Gauss-Jordan: \n",
      "[[20. ]\n",
      " [27.5]\n",
      " [22.5]\n",
      " [30. ]]\n"
     ]
    }
   ],
   "source": [
    "print('solución de Metodo Eliminación Gauss: ')\n",
    "print(a)\n",
    "print('solución de Metodo con Pivoteo Parcial o Gauss-Jordan: ')\n",
    "print(X)"
   ]
  },
  {
   "cell_type": "markdown",
   "id": "8aff4907",
   "metadata": {},
   "source": [
    "Por conclusión El metodo del pivoteo parcial es mas preciso."
   ]
  }
 ],
 "metadata": {
  "kernelspec": {
   "display_name": "Python 3",
   "language": "python",
   "name": "python3"
  },
  "language_info": {
   "codemirror_mode": {
    "name": "ipython",
    "version": 3
   },
   "file_extension": ".py",
   "mimetype": "text/x-python",
   "name": "python",
   "nbconvert_exporter": "python",
   "pygments_lexer": "ipython3",
   "version": "3.8.8"
  }
 },
 "nbformat": 4,
 "nbformat_minor": 5
}
